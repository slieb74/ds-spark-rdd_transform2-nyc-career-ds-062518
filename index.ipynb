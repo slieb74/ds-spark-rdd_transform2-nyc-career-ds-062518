{
 "cells": [
  {
   "cell_type": "markdown",
   "metadata": {},
   "source": [
    "# RDD Transformations 2\n",
    "\n",
    "## Objectives\n",
    "* Perform data retrieval from RDDs for exploratory purpose.\n",
    "* Understand the use of `first()`, `take()` and `top()` for retrieving data from RDDs.\n",
    "* Use `reduce()` action to reduce elements of an RDD to a single value. \n",
    "* Sample data from RDDs using `takeSample()` and `countByValue()`"
   ]
  },
  {
   "cell_type": "markdown",
   "metadata": {},
   "source": [
    "### Introduction\n",
    "This lab introduces more RDD transformations for selecting and retrieving data from distributed RDDs. Let's first import the code from our previous lab to re-create the `filteredRDD` and use `collect()` to view its contents. "
   ]
  },
  {
   "cell_type": "code",
   "execution_count": null,
   "metadata": {},
   "outputs": [],
   "source": [
    "# Include all the code from previous lab to create FilteredRDD and view the contents. \n",
    "\n",
    "\n",
    "\n",
    "\n",
    "\n",
    "\n",
    "\n",
    "\n",
    "\n",
    "\n",
    "\n",
    "# [0, 1, 2, 3, 4, 5, 6, 7, 8, 9]"
   ]
  },
  {
   "cell_type": "markdown",
   "metadata": {},
   "source": [
    "#### Bonus \n",
    ">You can also join a number of transformations to get the similar output as shown below. All the code from previous lab can be summarized in a neat manner as a one-liner. However, it is imperative that you must understand the function of each transformation and action before you try this, as these statements would be very difficult to debug."
   ]
  },
  {
   "cell_type": "code",
   "execution_count": 13,
   "metadata": {},
   "outputs": [
    {
     "data": {
      "text/plain": [
       "[0, 1, 2, 3, 4, 5, 6, 7, 8, 9]"
      ]
     },
     "execution_count": 13,
     "metadata": {},
     "output_type": "execute_result"
    }
   ],
   "source": [
    "# One-liner for a multiple transformations\n",
    "\n",
    "sc.parallelize(range(1,1001),5).map(subtract).filter(lessThanTen).collect()"
   ]
  },
  {
   "cell_type": "markdown",
   "metadata": {},
   "source": [
    "### `first()` vs. `take()` vs. `top()` actions"
   ]
  },
  {
   "cell_type": "markdown",
   "metadata": {},
   "source": [
    "A very step into exploratory analysis is always to look at first few rows of the data to get an idea about the features of the dataset and datatypes. in pandas this is achoeved by calling `.head()`. A similar approach can be adopted while working with Spark. We have `first()`, `take()`, `top()` and `takeordered()` actions. \n",
    "\n",
    "**Remember**, while using `first()` and `take()`, the output depends upon the partitioning of dataset. \n",
    "\n",
    "Instead of using `collect()` action, if we are interested in taking only the first element of an RDD, we can use `first()` action. `take(n)` perform similar action where first n elements of an RDD are returned. \n",
    "\n",
    "Let's use these actions on the RDDs that we created in the previous lab. \n",
    "1. get the first element of filteredRDD\n",
    "2. Get the first 3 elements of filteredRDD\n"
   ]
  },
  {
   "cell_type": "code",
   "execution_count": 15,
   "metadata": {},
   "outputs": [],
   "source": [
    "# Get the first element of filteredRDD\n",
    "\n",
    "\n",
    "# 0"
   ]
  },
  {
   "cell_type": "code",
   "execution_count": 16,
   "metadata": {},
   "outputs": [],
   "source": [
    "# Get first three elements of filteredRDD\n",
    "\n",
    "\n",
    "# [0, 1, 2]"
   ]
  },
  {
   "cell_type": "markdown",
   "metadata": {},
   "source": [
    "Let's also see what happenes if we try to take more elements than RDD has. An error maybe! "
   ]
  },
  {
   "cell_type": "code",
   "execution_count": 17,
   "metadata": {},
   "outputs": [],
   "source": [
    "# Try taking more elements than RDD has, say 20\n",
    "\n",
    "\n",
    "# [0, 1, 2, 3, 4, 5, 6, 7, 8, 9]"
   ]
  },
  {
   "cell_type": "markdown",
   "metadata": {},
   "source": [
    "So it is okie to take more elements than the length of an RDD. It will return all the elements of RDD without generating an error. \n",
    "\n",
    "### `takeOrdered()` action\n",
    "\n",
    "The `takeOrdered()` action returns the first n elements of the RDD, using either their natural order or some custom criteria. The key advantage of using `takeOrdered()` instead of `first()` or `take()` is that `takeOrdered()` returns a deterministic result, while the other two actions may return differing results, depending on the number of partions or execution environment. `takeOrdered()` returns the list sorted in ascending order. The `top()` action is similar to `takeOrdered()` except that it returns the list in descending order.\n",
    "\n",
    "Let's use use these to observe the output from the filteredRDD\n",
    "\n",
    "1. Retrieve three smallest elements of filteredRDD\n",
    "2. Retrieve three largest elements of filteredRDD\n",
    "3. Use a lambda function with `takeOrdered()` to reverse the output (i.e. get the top elements) \n"
   ]
  },
  {
   "cell_type": "code",
   "execution_count": 18,
   "metadata": {},
   "outputs": [],
   "source": [
    "# Retrieve three smallest elements of filteredRDD\n",
    "\n",
    "\n",
    "# [0, 1, 2]"
   ]
  },
  {
   "cell_type": "code",
   "execution_count": 19,
   "metadata": {},
   "outputs": [],
   "source": [
    "# Retrieve the three largest elements\n",
    "\n",
    "\n",
    "# [9, 8, 7]"
   ]
  },
  {
   "cell_type": "code",
   "execution_count": 20,
   "metadata": {},
   "outputs": [],
   "source": [
    "# Use a lambda function with `takeOrdered()` to reverse the order of output i.e. three top elements\n",
    "\n",
    "\n",
    "# [9, 8, 7]"
   ]
  },
  {
   "cell_type": "markdown",
   "metadata": {},
   "source": [
    "We can see that the output from `takeOrdered()`, when reversed, is exactly the same as the `top()` action. "
   ]
  },
  {
   "cell_type": "markdown",
   "metadata": {},
   "source": [
    "### `reduce()` action"
   ]
  },
  {
   "cell_type": "markdown",
   "metadata": {},
   "source": [
    "The `reduce()` action reduces the elements of a RDD to a single value by applying a function that takes two parameters and returns a single value.\n",
    "\n",
    "> **NOTE:** The function used with `reduce()` action should be **commutative** ( A+B = B+A ) and **associative** ((A+B)+C = A+(B+C)), as `reduce()` is applied at the partition level and then again to aggregate results from partitions.\n",
    "\n",
    "If commutative and associative propoerties of the function don't hold, the results from `reduce()` will be inconsistent. Reducing locally at partitions makes `reduce()` very effective. \n",
    "\n",
    "Let's try to apply `reduce()` action with a simple `add` operator from Python's `operator` module. \n"
   ]
  },
  {
   "cell_type": "code",
   "execution_count": 14,
   "metadata": {},
   "outputs": [],
   "source": [
    "# Obtain Python's add function\n",
    "from operator import add"
   ]
  },
  {
   "cell_type": "markdown",
   "metadata": {},
   "source": [
    "1. Apply `add` function with `reduce()` action to sum all the elements of filteredRDD\n",
    "2. Add numbers using a simple lambda function (a+b) with `reduce()` to add all elements sequentially. Confirm that a+b = b+a\n",
    "3. Repeat 2 by changing addition to subtraction within lambda function and comment on the results. "
   ]
  },
  {
   "cell_type": "code",
   "execution_count": 21,
   "metadata": {},
   "outputs": [],
   "source": [
    "# Sum the RDD using reduce() with imported add method\n",
    "\n",
    "\n",
    "# 45"
   ]
  },
  {
   "cell_type": "code",
   "execution_count": 22,
   "metadata": {},
   "outputs": [],
   "source": [
    "# Sum using reduce with a lambda function and check the output of a+b vs. b+a\n",
    "\n",
    "\n",
    "# (45, 45)"
   ]
  },
  {
   "cell_type": "markdown",
   "metadata": {},
   "source": [
    "Due to commutative and associative property of addition, we will observe the same result however we add the elements of RDD. But this assumption may not hold true for subtraction as it is not both commutative and associative. Let's try above lambda function with subtraction to view the effect of `reduce()` on a - b vs. b - a"
   ]
  },
  {
   "cell_type": "code",
   "execution_count": 23,
   "metadata": {},
   "outputs": [],
   "source": [
    "# Note that subtraction is not both associative and commutative\n",
    "\n",
    "\n",
    "# (-45, 5)"
   ]
  },
  {
   "cell_type": "markdown",
   "metadata": {},
   "source": [
    "So special care must be taken while using the `reduce()` function. There are a number of workaround for non-commutative, non-associative functions while using `reduce()`. [Here is a good explanation](https://cloudxlab.com/assessment/slide/17/apache-spark-basics/387/apache-spark-reduce-commutative-associative)"
   ]
  },
  {
   "cell_type": "markdown",
   "metadata": {},
   "source": [
    "### `takeSample()` and `counByValue()` "
   ]
  },
  {
   "cell_type": "markdown",
   "metadata": {},
   "source": [
    "These two methods can also be used for retrieving contents of an RDD. \n",
    "\n",
    "The `takeSample()` action outputs an array while performing random sampling on the RDD. It also accepts a `withReplacement = True` argument to identify if an item can be sampled multiple times. It uses a `seed` parameter for generating a seed to control the randomness during experimentation, producing *reproducible* results. \n",
    "\n",
    "We can apply `takeSample()` with replacement set to True and False to observe the effect. Remember, without setting up a seed, you would get random output.\n",
    "\n",
    "> **`RDD.takeSample(withReplacement, num, seed)`**"
   ]
  },
  {
   "cell_type": "code",
   "execution_count": 24,
   "metadata": {},
   "outputs": [],
   "source": [
    "# takeSample reusing elements and set number of samples to 5\n",
    "\n",
    "\n",
    "\n",
    "# [4, 3, 7, 9, 8]"
   ]
  },
  {
   "cell_type": "code",
   "execution_count": 25,
   "metadata": {},
   "outputs": [],
   "source": [
    "# takeSample not reusing elements and set number of samples to 5\n",
    "\n",
    "\n",
    "\n",
    "# [5, 4, 2, 9, 7]"
   ]
  },
  {
   "cell_type": "markdown",
   "metadata": {},
   "source": [
    "If we run above cells repeatedly, we will see that the output changes everytime due to uncontrolled randomness. We can control this behaviour by setting a seed value. "
   ]
  },
  {
   "cell_type": "code",
   "execution_count": 26,
   "metadata": {},
   "outputs": [],
   "source": [
    "# Set seed for predictability\n",
    "# Try reruning this cell and the cell above -- the results from this cell will remain constant\n",
    "\n",
    "\n",
    "\n",
    "# [8, 6, 5, 7, 2]"
   ]
  },
  {
   "cell_type": "markdown",
   "metadata": {},
   "source": [
    "Finally, The `countByValue()` action returns the count of each unique value in the RDD as a dictionary that maps values to counts, using `RDD.countByValue()`. \n",
    "\n",
    "Using following list, create a new RDD and apply the countByValue() action to get frequency of unique elements. \n",
    "[1, 2, 3, 1, 2, 3, 1, 2, 1, 2, 3, 3, 3, 4, 5, 4, 6]\n"
   ]
  },
  {
   "cell_type": "code",
   "execution_count": 27,
   "metadata": {},
   "outputs": [],
   "source": [
    "# Create new base RDD to show frequency of values using countByValue and show contents \n",
    "testRDD = sc.parallelize([1, 2, 3, 1, 2, 3, 1, 2, 1, 2, 3, 3, 3, 4, 5, 4, 6])\n",
    "\n",
    "\n",
    "# defaultdict(<class 'int'>, {1: 4, 2: 4, 3: 5, 4: 2, 5: 1, 6: 1})"
   ]
  },
  {
   "cell_type": "markdown",
   "metadata": {},
   "source": [
    "## Summary\n",
    "\n",
    "In this lab we saw some more transformations for processing data in RDDs. We looked at actions for exploring data stored in an RDD and for for sampling RDD data. `reduce()` action was also introduced while focusing on its commutative and associative assumptions. In the next lab, we shall discover some advanced transformations before moving on to developing some real applications using all these transformations and actions. "
   ]
  }
 ],
 "metadata": {
  "kernelspec": {
   "display_name": "Python 3",
   "language": "python",
   "name": "python3"
  },
  "language_info": {
   "codemirror_mode": {
    "name": "ipython",
    "version": 3
   },
   "file_extension": ".py",
   "mimetype": "text/x-python",
   "name": "python",
   "nbconvert_exporter": "python",
   "pygments_lexer": "ipython3",
   "version": "3.6.4"
  }
 },
 "nbformat": 4,
 "nbformat_minor": 2
}
